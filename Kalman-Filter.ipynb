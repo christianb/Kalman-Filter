{
 "cells": [
  {
   "cell_type": "markdown",
   "metadata": {},
   "source": [
    "This Kalman Filter is based on the implementation from [Wouter Bulten](https://github.com/wouterbulten/kalmanjs/blob/master/contrib/java/KalmanFilter.java)."
   ]
  },
  {
   "cell_type": "code",
   "execution_count": 1,
   "metadata": {},
   "outputs": [],
   "source": [
    "def isNaN(num):\n",
    "    return num != num"
   ]
  },
  {
   "cell_type": "markdown",
   "metadata": {},
   "source": [
    "The Kalman filter flattens the a measured input signal."
   ]
  },
  {
   "cell_type": "code",
   "execution_count": 2,
   "metadata": {},
   "outputs": [],
   "source": [
    "class KalmanFilter(object):\n",
    "    \n",
    "    def __init__(self, r, q): \n",
    "        self.R = r # Process noise\n",
    "        self.Q = q # Measurement noise\n",
    "        \n",
    "        self.A = 1 # State vector\n",
    "        self.B = 0 # Control vector\n",
    "        self.C = 1 # Measurment vector\n",
    "        \n",
    "        self.x = float('nan')\n",
    "        self.cov = 0.0\n",
    "        \n",
    "    def predict(self, u = 0):\n",
    "        return (self.A * float(self.x)) + (self.B * u)\n",
    "\n",
    "    def uncertainty(self):\n",
    "        return ((self.A * float(self.cov)) * self.A) + self.R\n",
    "    \n",
    "    def filter(self, measurement, u=0):\n",
    "        if (isNaN(self.x)):\n",
    "            self.x = (1 / self.C) * measurement\n",
    "            self.cov = (1 / self.C) * self.Q * (1 / self.C)\n",
    "        else:\n",
    "            predX = self.predict(u)\n",
    "            predCov = self.uncertainty()\n",
    "\n",
    "            # Kalman Gain\n",
    "            k_gain = predCov * self.C * (1 / ((self.C * predCov * self.C) + self.Q))\n",
    "\n",
    "            # Correction\n",
    "            self.x = predX + k_gain * (measurement - (self.C * predX))\n",
    "            self.cov = predCov - (k_gain * self.C * predCov)\n",
    "        return self.x"
   ]
  },
  {
   "cell_type": "code",
   "execution_count": 3,
   "metadata": {},
   "outputs": [],
   "source": [
    "import random\n",
    "import numpy as np\n",
    "\n",
    "def measurments(rssi, x_axis):\n",
    "    sigma = 3\n",
    "\n",
    "    g = []\n",
    "    for x in x_axis:\n",
    "        rnd_gaus = random.gauss(rssi,sigma)\n",
    "        g.append(rnd_gaus)\n",
    "\n",
    "    return np.asarray(g)"
   ]
  },
  {
   "cell_type": "code",
   "execution_count": 4,
   "metadata": {},
   "outputs": [],
   "source": [
    "import matplotlib.pyplot as plt\n",
    "\n",
    "def plot(x_axis, values, filtered):\n",
    "    plt.figure()\n",
    "    plt.plot(x_axis, values, 'bo', label='Signal')\n",
    "    plt.plot(x_axis, filtered, 'r', label='Kalman')\n",
    "    plt.legend()"
   ]
  },
  {
   "cell_type": "markdown",
   "metadata": {},
   "source": [
    "This example shows how the Kalman Filter can flatten a noisy RSSI signal."
   ]
  },
  {
   "cell_type": "code",
   "execution_count": 5,
   "metadata": {},
   "outputs": [
    {
     "data": {
      "image/png": "[encoded data removed]",
      "text/plain": [
       "<matplotlib.figure.Figure at 0x7f99af60e198>"
      ]
     },
     "metadata": {
      "needs_background": "light"
     },
     "output_type": "display_data"
    }
   ],
   "source": [
    "R = 0.01\n",
    "Q = 3\n",
    "\n",
    "kalman = KalmanFilter(R, Q)\n",
    "\n",
    "x_axis = np.arange(0, 40, 0.5)\n",
    "\n",
    "RSSI = -73\n",
    "measurements = measurments(RSSI, x_axis)\n",
    "\n",
    "filtered = []\n",
    "for f in measurements:\n",
    "    filtered.append(kalman.filter(f))\n",
    "    \n",
    "plot(x_axis, measurements, filtered)"
   ]
  }
 ],
 "metadata": {
  "kernelspec": {
   "display_name": "Python 3",
   "language": "python",
   "name": "python3"
  },
  "language_info": {
   "codemirror_mode": {
    "name": "ipython",
    "version": 3
   },
   "file_extension": ".py",
   "mimetype": "text/x-python",
   "name": "python",
   "nbconvert_exporter": "python",
   "pygments_lexer": "ipython3",
   "version": "3.6.8"
  }
 },
 "nbformat": 4,
 "nbformat_minor": 2
}
